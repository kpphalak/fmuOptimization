{
 "cells": [
  {
   "cell_type": "code",
   "execution_count": 64,
   "metadata": {},
   "outputs": [],
   "source": [
    "import scipy.optimize as spo\n",
    "import fmpy\n",
    "from fmpy import *\n",
    "import pandas as pd\n",
    "from matplotlib import pyplot as plt\n",
    "from IPython.display import clear_output\n",
    "import time\n",
    "filename = r'fmus/QuadraticFunction.fmu'"
   ]
  },
  {
   "cell_type": "code",
   "execution_count": 118,
   "metadata": {},
   "outputs": [],
   "source": [
    "varying_y = []\n",
    "varying_x = []\n",
    "\n",
    "def f(x):\n",
    "    start_values = {'x': x, }\n",
    "    output = ['y',]\n",
    "    fmu_result = simulate_fmu(filename, start_values=start_values, output=output, stop_time=0.001)\n",
    "    df = pd.DataFrame.from_dict(fmu_result)\n",
    "    #print(df)\n",
    "    y=df.y[0]\n",
    "    # print(x[0] ,y)\n",
    "    clear_output(wait=True)\n",
    "    varying_y.append(y)\n",
    "    varying_x.append(x)\n",
    "    plt.xlim(-12, 4)\n",
    "    plt.ylim(0, 300)\n",
    "    plt.scatter(varying_x, varying_y, c=varying_y, s=100, cmap='Accent')\n",
    "    plt.show()\n",
    "    return y"
   ]
  },
  {
   "cell_type": "code",
   "execution_count": 119,
   "metadata": {
    "scrolled": false
   },
   "outputs": [
    {
     "data": {
      "image/png": "[encoded data removed]",
      "text/plain": [
       "<Figure size 432x288 with 1 Axes>"
      ]
     },
     "metadata": {
      "needs_background": "light"
     },
     "output_type": "display_data"
    },
    {
     "name": "stdout",
     "output_type": "stream",
     "text": [
      "x=[1.50000011] y=19.500000000000025\n"
     ]
    }
   ],
   "source": [
    "x0 = -10\n",
    "result = spo.minimize(f, x0)\n",
    "print(f\"x={result.x} y={result.fun}\")"
   ]
  },
  {
   "cell_type": "code",
   "execution_count": null,
   "metadata": {},
   "outputs": [],
   "source": []
  },
  {
   "cell_type": "code",
   "execution_count": null,
   "metadata": {},
   "outputs": [],
   "source": []
  },
  {
   "cell_type": "code",
   "execution_count": null,
   "metadata": {},
   "outputs": [],
   "source": []
  }
 ],
 "metadata": {
  "kernelspec": {
   "display_name": "Python 3",
   "language": "python",
   "name": "python3"
  },
  "language_info": {
   "codemirror_mode": {
    "name": "ipython",
    "version": 3
   },
   "file_extension": ".py",
   "mimetype": "text/x-python",
   "name": "python",
   "nbconvert_exporter": "python",
   "pygments_lexer": "ipython3",
   "version": "3.7.6"
  }
 },
 "nbformat": 4,
 "nbformat_minor": 4
}
